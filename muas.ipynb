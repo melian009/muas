{
 "cells": [
  {
   "cell_type": "markdown",
   "metadata": {
    "slideshow": {
     "slide_type": "slide"
    }
   },
   "source": [
    "<font size=\"5\">\n",
    "\n",
    "### A multilayer framework for Archipielago sustainability\n",
    "<font size=\"3\">\n",
    "    \n",
    "--------------------------------------------------------\n",
    "Carlos J. Melián\n",
    "\n",
    "EAWAG, ETH-Domain, Switzerland & IFISC, Spain\n",
    "\n",
    "WBF, Davos, Jun2 22, 2022\n",
    "### https://github.com/melian009/muas.git\n",
    "--------------------------------------------------------\n"
   ]
  },
  {
   "cell_type": "markdown",
   "metadata": {
    "slideshow": {
     "slide_type": "skip"
    }
   },
   "source": [
    "<img src=\"figures/collaboratorsnew2.png\" alt=\"drawing\" width=\"800\"/>"
   ]
  },
  {
   "cell_type": "markdown",
   "metadata": {
    "slideshow": {
     "slide_type": "subslide"
    }
   },
   "source": [
    "# Outline\n",
    "\n",
    "# Multilayer framework\n",
    "\n",
    "# What is Archipielago sustainability?\n",
    "\n",
    "## Which states should an archipielago cross to connect global resilience to local sustainability?\n",
    "\n",
    "### How can multilayer networks help to build a quantitative model for synthesizing resilience and sustainability?\n",
    "\n",
    "#### Narrow and broad sense sustainability"
   ]
  },
  {
   "cell_type": "markdown",
   "metadata": {
    "slideshow": {
     "slide_type": "subslide"
    }
   },
   "source": [
    "### References \n",
    "\n",
    "#### Multilayer networks\n",
    "\n",
    "* Buldyrev, SV., Parshani, R., Paul, G., Stanley, HE., and Havlin, S. (2010). Catastrophic cascade of failures in interdependent networks, Nature, 464:1025–1028\n",
    "\n",
    "* Gao J., Liu, X., Li, D., and Havlin, S. (2015). Recent Progress on the Resilience of Complex Networks. Energies, 8:12187-12210\n",
    "\n",
    "* Melián, CJ, Matthews, B, Andreazzi, CS, Rodríguez, JP, Harmon, LJ, and Fortuna MA (2018). Deciphering the interdependence between ecological and evolutionary networks, TREE, 33:504-512\n",
    "\n",
    "* Danziger, MM, and A-L, Barabási. (2022). Recovery coupling in multilayer networks. Nature comms, 13:955.\n"
   ]
  },
  {
   "cell_type": "markdown",
   "metadata": {
    "slideshow": {
     "slide_type": "subslide"
    }
   },
   "source": [
    "\n",
    "#### What is Archipielago sustainability?\n"
   ]
  },
  {
   "cell_type": "code",
   "execution_count": 4,
   "metadata": {
    "slideshow": {
     "slide_type": "skip"
    }
   },
   "outputs": [
    {
     "data": {
      "text/html": [
       "<style>.container { width:100% !important; }</style>"
      ],
      "text/plain": [
       "<IPython.core.display.HTML object>"
      ]
     },
     "metadata": {},
     "output_type": "display_data"
    }
   ],
   "source": [
    "from IPython.core.display import display, HTML\n",
    "display(HTML(\"<style>.container { width:100% !important; }</style>\"))"
   ]
  },
  {
   "cell_type": "markdown",
   "metadata": {
    "slideshow": {
     "slide_type": "slide"
    }
   },
   "source": [
    "\n",
    "# Multilayer framework "
   ]
  },
  {
   "cell_type": "markdown",
   "metadata": {
    "slideshow": {
     "slide_type": "subslide"
    }
   },
   "source": [
    " <script src='https://cdnjs.cloudflare.com/ajax/libs/mathjax/2.7.5/latest.js?config=TeX-AMS_HTML'></script>\n",
    "\n",
    "<img src=\"figures/in.pdf.png-1.png\" alt=\"drawing\" width=\"800\"/>\n"
   ]
  },
  {
   "cell_type": "markdown",
   "metadata": {
    "slideshow": {
     "slide_type": "subslide"
    }
   },
   "source": [
    "<img src=\"figures/energies-08-12187-g001-1024.png\" alt=\"drawing\" width=\"700\"/>"
   ]
  },
  {
   "cell_type": "markdown",
   "metadata": {
    "slideshow": {
     "slide_type": "subslide"
    }
   },
   "source": [
    "<img src=\"figures/couplingFig1.png\" alt=\"drawing\" width=\"800\"/> "
   ]
  },
  {
   "cell_type": "markdown",
   "metadata": {
    "slideshow": {
     "slide_type": "subslide"
    }
   },
   "source": [
    "<img src=\"figures/BFnature08932_Fig2.png\" alt=\"drawing\" width=\"400\"/> \n",
    "<img src=\"figures/Giantcomponent.jpg\" alt=\"drawing\" width=\"600\"/> "
   ]
  },
  {
   "cell_type": "markdown",
   "metadata": {
    "slideshow": {
     "slide_type": "slide"
    }
   },
   "source": [
    "# What is Archipielago sustainability? "
   ]
  },
  {
   "cell_type": "markdown",
   "metadata": {
    "slideshow": {
     "slide_type": "subslide"
    }
   },
   "source": [
    "<img src=\"figures/Islands_of_the_world.png\" alt=\"drawing\" width=\"1200\"/>"
   ]
  },
  {
   "cell_type": "markdown",
   "metadata": {
    "slideshow": {
     "slide_type": "subslide"
    }
   },
   "source": [
    "# Narrow sense sustainability\n",
    "#### Refer to one layer of interest, i.e., transition from external to internal energy sources, local temporal-dependent maps of biodiversity to detect sensitive areas to minimize perturbations, etc. \n",
    "<img src=\"figures/narrowsus.png\" alt=\"drawing\" width=\"1200\"/> \n"
   ]
  },
  {
   "cell_type": "markdown",
   "metadata": {
    "slideshow": {
     "slide_type": "subslide"
    }
   },
   "source": [
    "# Broad sense sustainability\n",
    "\n",
    "#### Explicitly account for interdependent interactions between layers, i.e., map decentralized hybrid PV-WT stations into hot spots of biodiversity  \n",
    "\n",
    "<img src=\"figures/broadsus.png\" alt=\"drawing\" width=\"1200\"/> \n"
   ]
  },
  {
   "cell_type": "markdown",
   "metadata": {
    "slideshow": {
     "slide_type": "subslide"
    }
   },
   "source": [
    "<script src='https://cdnjs.cloudflare.com/ajax/libs/mathjax/2.7.5/latest.js?config=TeX-AMS_HTML'></script>\n",
    "\n",
    "# SPECIES DIVERSITY\n",
    "\n",
    "<img src=\"figures/MacArthurWilson.pdf-1.png\" alt=\"drawing\" height=\"600\" width=\"600\"/>\n"
   ]
  },
  {
   "cell_type": "markdown",
   "metadata": {
    "slideshow": {
     "slide_type": "slide"
    }
   },
   "source": [
    "## Take home message\n",
    "\n",
    "* Most approaches in multilayer have explored attack patterns to study resilience and cascade failures in interdependent networks. Yet, the connection between global resilience and local sustinability patterns using multilayer networks remain open \n",
    "\n",
    "* Multilayer networks offer a framework to analyze interdisciplinary data, for example to ask questions like which states should we cross from global resilience to local sustainability? \n",
    "\n",
    "* Multilayer framework can distinguish narrow vs. broad sense sustainability: Narrow might refer to one layer of interest, i.e., transition from external to internal energy sources, local temporal-dependent maps of biodiversity to detect sensitive areas to minimize perturbations, etc.  Broad sense refer to explicitly account for interdependent interactions between layers, i.e., map decentralized hybrid PV-WT stations into hot spots of biodiversity  \n"
   ]
  }
 ],
 "metadata": {
  "@webio": {
   "lastCommId": null,
   "lastKernelId": null
  },
  "celltoolbar": "Slideshow",
  "kernelspec": {
   "display_name": "Python 3",
   "language": "python",
   "name": "python3"
  },
  "language_info": {
   "codemirror_mode": {
    "name": "ipython",
    "version": 3
   },
   "file_extension": ".py",
   "mimetype": "text/x-python",
   "name": "python",
   "nbconvert_exporter": "python",
   "pygments_lexer": "ipython3",
   "version": "3.7.3"
  }
 },
 "nbformat": 4,
 "nbformat_minor": 2
}
