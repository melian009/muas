{
 "cells": [
  {
   "cell_type": "markdown",
   "metadata": {
    "slideshow": {
     "slide_type": "slide"
    }
   },
   "source": [
    "<font size=\"5\">\n",
    "\n",
    "### A multilayer framework for Archipielago sustainability\n",
    "<font size=\"3\">\n",
    "    \n",
    "--------------------------------------------------------\n",
    "Carlos J. Melián\n",
    "\n",
    "EAWAG, ETH-Domain, Switzerland & IFISC, Spain\n",
    "\n",
    "WBF, Davos, Jun2 22, 2022\n",
    "### https://github.com/melian009/muas.git\n",
    "--------------------------------------------------------\n"
   ]
  },
  {
   "cell_type": "markdown",
   "metadata": {
    "slideshow": {
     "slide_type": "skip"
    }
   },
   "source": [
    "<img src=\"figures/collaboratorsnew2.png\" alt=\"drawing\" width=\"800\"/>"
   ]
  },
  {
   "cell_type": "markdown",
   "metadata": {
    "slideshow": {
     "slide_type": "subslide"
    }
   },
   "source": [
    "### References \n",
    "\n",
    "#### Multilayer networks\n",
    "\n",
    "* Buldyrev, SV., Parshani, R., Paul, G., Stanley, HE., and Havlin, S. (2010). Catastrophic cascade of failures in interdependent networks, Nature, 464:1025–1028\n",
    "\n",
    "* Gao J., Liu, X., Li, D., and Havlin, S. (2015). Recent Progress on the Resilience of Complex Networks. Energies, 8:12187-12210\n",
    "\n",
    "* Melián, CJ, Matthews, B, Andreazzi, CS, Rodríguez, JP, Harmon, LJ, and Fortuna MA (2018). Deciphering the interdependence between ecological and evolutionary networks, TREE, 33:504-512\n",
    "\n",
    "* Danziger, MM, and A-L, Barabási. (2022). Recovery coupling in multilayer networks. Nature comms, 13:955.\n"
   ]
  },
  {
   "cell_type": "markdown",
   "metadata": {
    "slideshow": {
     "slide_type": "slide"
    }
   },
   "source": [
    "# Outline\n",
    "\n",
    "# How can multilayer networks help to build a quantitative model for integrating resilience and sustainability?\n",
    "\n",
    "# Which states should an archipielago cross to connect global resilience to local sustainability?"
   ]
  },
  {
   "cell_type": "code",
   "execution_count": 4,
   "metadata": {
    "slideshow": {
     "slide_type": "skip"
    }
   },
   "outputs": [
    {
     "data": {
      "text/html": [
       "<style>.container { width:100% !important; }</style>"
      ],
      "text/plain": [
       "<IPython.core.display.HTML object>"
      ]
     },
     "metadata": {},
     "output_type": "display_data"
    }
   ],
   "source": [
    "from IPython.core.display import display, HTML\n",
    "display(HTML(\"<style>.container { width:100% !important; }</style>\"))"
   ]
  },
  {
   "cell_type": "markdown",
   "metadata": {
    "slideshow": {
     "slide_type": "subslide"
    }
   },
   "source": [
    "<img src=\"figures/Islands_of_the_world.png\" alt=\"drawing\" width=\"1200\"/>"
   ]
  },
  {
   "cell_type": "markdown",
   "metadata": {
    "slideshow": {
     "slide_type": "subslide"
    }
   },
   "source": [
    "<img src=\"figures/global.pdf.png-1.png\" alt=\"drawing\" width=\"1200\"/>"
   ]
  },
  {
   "cell_type": "markdown",
   "metadata": {
    "slideshow": {
     "slide_type": "slide"
    }
   },
   "source": [
    "# How can multilayer networks help to build a quantitative model for integrating resilience and sustainability?"
   ]
  },
  {
   "cell_type": "markdown",
   "metadata": {
    "slideshow": {
     "slide_type": "subslide"
    }
   },
   "source": [
    " <script src='https://cdnjs.cloudflare.com/ajax/libs/mathjax/2.7.5/latest.js?config=TeX-AMS_HTML'></script>\n",
    "\n",
    "<img src=\"figures/in.pdf.png-1.png\" alt=\"drawing\" width=\"800\"/>\n"
   ]
  },
  {
   "cell_type": "markdown",
   "metadata": {
    "slideshow": {
     "slide_type": "subslide"
    }
   },
   "source": [
    "<img src=\"figures/energies-08-12187-g001-1024.png\" alt=\"drawing\" width=\"700\"/>"
   ]
  },
  {
   "cell_type": "markdown",
   "metadata": {
    "slideshow": {
     "slide_type": "subslide"
    }
   },
   "source": [
    "<img src=\"figures/couplingFig1.png\" alt=\"drawing\" width=\"800\"/> "
   ]
  },
  {
   "cell_type": "markdown",
   "metadata": {
    "slideshow": {
     "slide_type": "subslide"
    }
   },
   "source": [
    "<img src=\"figures/multilayer.jpg\" alt=\"drawing\" width=400 height=800/> \n",
    "<img src=\"figures/Giantcomponent.jpg\" alt=\"drawing\" width=\"500\"/> "
   ]
  },
  {
   "cell_type": "markdown",
   "metadata": {
    "slideshow": {
     "slide_type": "slide"
    }
   },
   "source": [
    "\n",
    "\n",
    "# Which states should an archipielago cross to connect global resilience to local sustainability?"
   ]
  },
  {
   "cell_type": "markdown",
   "metadata": {
    "slideshow": {
     "slide_type": "subslide"
    }
   },
   "source": [
    "# Narrow sense sustainability\n",
    "#### Usually one layer of interest, i.e., transition from external to internal energy sources or local temporal-dependent maps of biodiversity to detect sensitive areas or hot spots. \n",
    "<img src=\"figures/narrowsus.png\" alt=\"drawing\" width=\"1200\"/> \n"
   ]
  },
  {
   "cell_type": "markdown",
   "metadata": {
    "slideshow": {
     "slide_type": "subslide"
    }
   },
   "source": [
    "# Broad sense sustainability\n",
    "\n",
    "#### Explicitly account for decentralization within and between layers, i.e., map decentralized hybrid PV-WT stations  to data centers and to hot spots of biodiversity  \n",
    "\n",
    "<img src=\"figures/broadsus.png\" alt=\"drawing\" width=\"1200\"/> \n"
   ]
  },
  {
   "cell_type": "markdown",
   "metadata": {
    "slideshow": {
     "slide_type": "subslide"
    }
   },
   "source": [
    "<img src=\"figures/sustainability.jpg\" alt=\"drawing\" width=375 height=700 />"
   ]
  },
  {
   "cell_type": "markdown",
   "metadata": {
    "slideshow": {
     "slide_type": "slide"
    }
   },
   "source": [
    "## Take home message\n",
    "\n",
    "* Most approaches in multilayer have detected extreme sensitivity to cascade failures in interdependent networks regardless their topology. \n",
    "\n",
    "* The connection between global resilience and local sustainability requires the understanding of the interdependence at local, regional, and global scales of at least N-coupled networks, i.e., energy, water, distribution, regulatory frameworks, biodiversity and function maps.\n",
    "\n",
    "* Multilayer networks might help as a framework to transition from narrow to broad sense sustainability: for example to connect decentralized hybrid PV-WT stations to data center networks to map biodiversity function hotspots  \n"
   ]
  }
 ],
 "metadata": {
  "@webio": {
   "lastCommId": null,
   "lastKernelId": null
  },
  "celltoolbar": "Slideshow",
  "kernelspec": {
   "display_name": "Python 3",
   "language": "python",
   "name": "python3"
  },
  "language_info": {
   "codemirror_mode": {
    "name": "ipython",
    "version": 3
   },
   "file_extension": ".py",
   "mimetype": "text/x-python",
   "name": "python",
   "nbconvert_exporter": "python",
   "pygments_lexer": "ipython3",
   "version": "3.7.3"
  }
 },
 "nbformat": 4,
 "nbformat_minor": 2
}
